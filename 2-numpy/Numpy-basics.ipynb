{
 "cells": [
  {
   "cell_type": "markdown",
   "metadata": {},
   "source": [
    "# Welcome to Numpy basics!\n",
    "\n",
    "### What to expect after going through this notebook :\n",
    "* A good understanding of Numpy and its working\n",
    "* \n",
    "\n",
    "### What not to expect :\n",
    "* \n",
    "\n",
    "### Pre-requisites for this tutorial : \n",
    "* A teensy bit of Harry Potter knowledge to fully understand the task at the end of this tutorial :)"
   ]
  },
  {
   "cell_type": "markdown",
   "metadata": {},
   "source": [
    "## What is Numpy?\n",
    "\n",
    "### Definition \n",
    "***numpy*** is a Python library, adding support for large, multi-dimensional arrays and matrices, along with a large collection of high-level mathematical functions to operate on these arrays. numpy = numeric python.\n",
    "\n",
    "### Explain Like I'm Five Definition - \n",
    "***Without numpy - *** \n",
    "```\n",
    "for(i=0;i<4;i++):\n",
    "    c[i] = a[i] + b[i]\n",
    "    printf('%d \\t', c[i])\n",
    "```\n",
    "***With numpy - *** \n",
    "```\n",
    "c = np.add(a,b)\n",
    "```\n",
    "\n",
    "Cool right?!?\n",
    "\n",
    "numpy works under the hood for many packages like pandas, scikit-learn and more. So fundamental understanding of how it works is important to have a hassle free experience with them."
   ]
  },
  {
   "cell_type": "markdown",
   "metadata": {},
   "source": [
    "## What are the magic words?\n",
    "To import this package into IPython - "
   ]
  },
  {
   "cell_type": "code",
   "execution_count": null,
   "metadata": {
    "collapsed": true
   },
   "outputs": [],
   "source": [
    "import numpy as np"
   ]
  },
  {
   "cell_type": "markdown",
   "metadata": {},
   "source": [
    "Why import as np? Because *#conventions*.\n",
    "\n",
    "Now let's dive in..."
   ]
  },
  {
   "cell_type": "markdown",
   "metadata": {},
   "source": [
    "## And with that, we wrap up numpy..."
   ]
  },
  {
   "cell_type": "markdown",
   "metadata": {},
   "source": [
    "![That's all folks! See you in the next topic.](see-you.jpg)"
   ]
  }
 ],
 "metadata": {
  "kernelspec": {
   "display_name": "Python 3",
   "language": "python",
   "name": "python3"
  },
  "language_info": {
   "codemirror_mode": {
    "name": "ipython",
    "version": 3
   },
   "file_extension": ".py",
   "mimetype": "text/x-python",
   "name": "python",
   "nbconvert_exporter": "python",
   "pygments_lexer": "ipython3",
   "version": "3.6.3"
  }
 },
 "nbformat": 4,
 "nbformat_minor": 2
}
