{
 "cells": [
  {
   "cell_type": "markdown",
   "metadata": {},
   "source": [
    "# Linear Regression"
   ]
  },
  {
   "cell_type": "markdown",
   "metadata": {},
   "source": [
    "## Importing necessary modules"
   ]
  },
  {
   "cell_type": "code",
   "execution_count": 2,
   "metadata": {},
   "outputs": [],
   "source": [
    "import numpy as np\n",
    "import pandas as pd\n",
    "import matplotlib.pyplot as plt"
   ]
  },
  {
   "cell_type": "markdown",
   "metadata": {},
   "source": [
    "## Defining the Plot functions"
   ]
  },
  {
   "cell_type": "code",
   "execution_count": 2,
   "metadata": {},
   "outputs": [],
   "source": [
    "def plotFunction(X, y, theta):\n",
    "    plt.scatter(X[:,1], y, color = \"m\",\n",
    "               marker = \"o\", s = 30)\n",
    "\n",
    "    h_x= X.dot(theta)\n",
    "    plt.plot(X[:,1], h_x, color = \"r\")\n",
    "    plt.show()\n",
    "    \n",
    "    \n",
    "def plotJ(J, max_iters):\n",
    "    plt.plot(range(1, max_iters+1), J, color = \"r\")\n",
    "    plt.show()"
   ]
  },
  {
   "cell_type": "markdown",
   "metadata": {},
   "source": [
    "## Loading the data into X and y, Setting theta"
   ]
  },
  {
   "cell_type": "code",
   "execution_count": 3,
   "metadata": {},
   "outputs": [
    {
     "name": "stdout",
     "output_type": "stream",
     "text": [
      "X=  [[1 1]\n",
      " [1 2]\n",
      " [1 3]\n",
      " [1 4]\n",
      " [1 5]]\n",
      "y=  [ 2  4  5  9 12]\n",
      "theta=  [0.5488135  0.71518937]\n"
     ]
    }
   ],
   "source": [
    "X= [[1,2,3,4,5]]\n",
    "y= np.array([2,4,5,9,12])\n",
    "\n",
    "\n",
    "ones= [[1]*5]\n",
    "X= np.array(ones +X)\n",
    "X=X.T\n",
    "\n",
    "np.random.seed(0)\n",
    "theta= np.random.rand(X.shape[1])\n",
    "\n",
    "print('X= ', X)\n",
    "print('y= ', y)\n",
    "print('theta= ', theta)"
   ]
  },
  {
   "cell_type": "markdown",
   "metadata": {},
   "source": [
    "## Cost Function"
   ]
  },
  {
   "cell_type": "code",
   "execution_count": 4,
   "metadata": {},
   "outputs": [],
   "source": [
    "def costFunction(X, y, theta):\n",
    "    h= X.dot(theta)\n",
    "    err= h-y\n",
    "    return 0.5/X.shape[0]*sum(err*err)"
   ]
  },
  {
   "cell_type": "markdown",
   "metadata": {},
   "source": [
    "## Gradient Descent Algorithm"
   ]
  },
  {
   "cell_type": "code",
   "execution_count": 5,
   "metadata": {},
   "outputs": [],
   "source": [
    "def linearReg(X, y, theta, alpha=0.01, max_iters=1500):\n",
    "    m= y.shape[0]\n",
    "    J_error=[]\n",
    "    for i in range(max_iters):\n",
    "        h_x= X.dot(theta)\n",
    "        \n",
    "        gradient= np.array([0.0]*theta.shape[0])\n",
    "        \n",
    "        for j in range(theta.shape[0]):\n",
    "            gradient[j]= 1/m*(h_x- y).dot(X[:, j])\n",
    "        \n",
    "        theta= theta- alpha*gradient\n",
    "        J_error.append(costFunction(X, y, theta))\n",
    "    \n",
    "    #plotFunction(X,y,theta)\n",
    "    plotJ(J_error, max_iters)\n",
    "    return theta"
   ]
  },
  {
   "cell_type": "markdown",
   "metadata": {},
   "source": [
    "## Calling the algorithm from main()"
   ]
  },
  {
   "cell_type": "code",
   "execution_count": 6,
   "metadata": {},
   "outputs": [
    {
     "data": {
      "image/png": "[encoded data removed]",
      "text/plain": [
       "<matplotlib.figure.Figure at 0x97f0370>"
      ]
     },
     "metadata": {},
     "output_type": "display_data"
    },
    {
     "data": {
      "text/plain": [
       "array([-0.94268377,  2.45642593])"
      ]
     },
     "execution_count": 6,
     "metadata": {},
     "output_type": "execute_result"
    }
   ],
   "source": [
    "linearReg(X, y, theta, 0.01, max_iters=1500)"
   ]
  },
  {
   "cell_type": "markdown",
   "metadata": {},
   "source": [
    "# Multi-linear Regression- Change line 1 of In[3] as follows:"
   ]
  },
  {
   "cell_type": "code",
   "execution_count": 7,
   "metadata": {},
   "outputs": [],
   "source": [
    "X= [[1,2,3,4,5], [3, 4, 7, 9, 10]]"
   ]
  },
  {
   "cell_type": "markdown",
   "metadata": {},
   "source": [
    "Tune max_iters and alpha to fit to sklearn results."
   ]
  },
  {
   "cell_type": "markdown",
   "metadata": {},
   "source": [
    "# Sklearn lm"
   ]
  },
  {
   "cell_type": "code",
   "execution_count": 26,
   "metadata": {},
   "outputs": [
    {
     "name": "stdout",
     "output_type": "stream",
     "text": [
      "X= [[  1   1   1]\n",
      " [  2   4   8]\n",
      " [  3   9  27]\n",
      " [  4  16  64]\n",
      " [  5  25 125]]\n",
      "y= [ 1  3  7  9 12]\n",
      "LinearRegression(copy_X=True, fit_intercept=True, n_jobs=1, normalize=False)\n",
      "-0.5999999999997909\n",
      "[ 0.83333333  0.75       -0.08333333]\n"
     ]
    }
   ],
   "source": [
    "import numpy as np\n",
    "import pandas as pd\n",
    "import matplotlib.pyplot as plt\n",
    "\n",
    "X= np.array([[1,2,3,4,5], [3, 4, 7, 9, 10]])\n",
    "y= np.array([2,4,5,9,12])\n",
    "\n",
    "X= X.T\n",
    "\n",
    "print('X=', X)\n",
    "print('y=', y)\n",
    "\n",
    "from sklearn.linear_model import LinearRegression\n",
    "lm = LinearRegression()\n",
    "lm\n",
    "\n",
    "print(lm.fit(X, y))\n",
    "\n",
    "print(lm.intercept_)\n",
    "print(lm.coef_)"
   ]
  },
  {
   "cell_type": "markdown",
   "metadata": {},
   "source": [
    "# Add x<sup>2</sup> terms to X - Replace lines 5 and 6 in In[8] with these 3 lines"
   ]
  },
  {
   "cell_type": "code",
   "execution_count": 56,
   "metadata": {},
   "outputs": [
    {
     "name": "stdout",
     "output_type": "stream",
     "text": [
      "X= [[ 1  1  1]\n",
      " [ 1  2  4]\n",
      " [ 1  3  9]\n",
      " [ 1  4 16]\n",
      " [ 1  5 25]]\n",
      "y= [ 1  4  8 18 24]\n",
      "LinearRegression(copy_X=True, fit_intercept=True, n_jobs=1, normalize=False)\n",
      "-0.9999999999999787\n",
      "[0.         0.85714286 0.85714286]\n"
     ]
    }
   ],
   "source": [
    "import numpy as np\n",
    "import pandas as pd\n",
    "import matplotlib.pyplot as plt\n",
    "\n",
    "\n",
    "\n",
    "########\n",
    "X= [[1,2,3,4,5]]\n",
    "X.append(list(map(lambda x:x*x,  X[0])))\n",
    "y= np.array([1, 4, 8, 18, 24])\n",
    "ones= [[1]*5]\n",
    "X= np.array(ones + X)\n",
    "#######\n",
    "\n",
    "\n",
    "X= X.T\n",
    "\n",
    "print('X=', X)\n",
    "print('y=', y)\n",
    "\n",
    "from sklearn.linear_model import LinearRegression\n",
    "lm = LinearRegression()\n",
    "lm\n",
    "\n",
    "print(lm.fit(X, y))\n",
    "\n",
    "print(lm.intercept_)\n",
    "print(lm.coef_)"
   ]
  },
  {
   "cell_type": "markdown",
   "metadata": {},
   "source": [
    "## Plot on the quadratic regression"
   ]
  },
  {
   "cell_type": "code",
   "execution_count": 57,
   "metadata": {},
   "outputs": [
    {
     "data": {
      "image/png": "[encoded data removed]",
      "text/plain": [
       "<matplotlib.figure.Figure at 0x2d47810>"
      ]
     },
     "metadata": {},
     "output_type": "display_data"
    }
   ],
   "source": [
    "plt.scatter(X[:,1], y, color = \"m\",\n",
    "               marker = \"o\", s = 30)\n",
    "h_x=lm.predict(X)\n",
    "plt.plot(X[:,1], h_x, color = \"r\")\n",
    "plt.show()"
   ]
  },
  {
   "cell_type": "markdown",
   "metadata": {},
   "source": [
    "# Add x<sup>3</sup> terms to X - Replace lines 5 and 6 in In[8] with these 3 lines"
   ]
  },
  {
   "cell_type": "code",
   "execution_count": 58,
   "metadata": {},
   "outputs": [
    {
     "name": "stdout",
     "output_type": "stream",
     "text": [
      "X= [[  1   1   1   1]\n",
      " [  1   2   4   8]\n",
      " [  1   3   9  27]\n",
      " [  1   4  16  64]\n",
      " [  1   5  25 125]]\n",
      "y= [ 1  3  7  9 12]\n",
      "LinearRegression(copy_X=True, fit_intercept=True, n_jobs=1, normalize=False)\n",
      "-0.5999999999998327\n",
      "[ 0.          0.83333333  0.75       -0.08333333]\n"
     ]
    }
   ],
   "source": [
    "import numpy as np\n",
    "import pandas as pd\n",
    "import matplotlib.pyplot as plt\n",
    "\n",
    "##########\n",
    "X= [[1,2,3,4,5]]\n",
    "X.append(list(map(lambda x:x*x,  X[0])))\n",
    "X.append(list(map(lambda x:x*x*x,  X[0])))\n",
    "y= np.array([1, 3, 7, 9, 12])\n",
    "ones= [[1]*5]\n",
    "X= np.array(ones + X)\n",
    "###########\n",
    "\n",
    "X= X.T\n",
    "\n",
    "print('X=', X)\n",
    "print('y=', y)\n",
    "\n",
    "from sklearn.linear_model import LinearRegression\n",
    "lm = LinearRegression()\n",
    "lm\n",
    "\n",
    "print(lm.fit(X, y))\n",
    "\n",
    "print(lm.intercept_)\n",
    "print(lm.coef_)"
   ]
  },
  {
   "cell_type": "markdown",
   "metadata": {},
   "source": [
    "## Plot on the cubic regression"
   ]
  },
  {
   "cell_type": "code",
   "execution_count": 59,
   "metadata": {},
   "outputs": [
    {
     "data": {
      "image/png": "[encoded data removed]",
      "text/plain": [
       "<matplotlib.figure.Figure at 0x2d47a50>"
      ]
     },
     "metadata": {},
     "output_type": "display_data"
    }
   ],
   "source": [
    "plt.scatter(X[:,1], y, color = \"m\",\n",
    "               marker = \"o\", s = 30)\n",
    "h_x=lm.predict(X)\n",
    "plt.plot(X[:,1], h_x, color = \"r\")\n",
    "plt.show()"
   ]
  },
  {
   "cell_type": "markdown",
   "metadata": {},
   "source": []
  },
  {
   "cell_type": "markdown",
   "metadata": {},
   "source": [
    "# Regularisation"
   ]
  },
  {
   "cell_type": "markdown",
   "metadata": {},
   "source": [
    "## Fit a degree 8 polynomial onto this dataset X"
   ]
  },
  {
   "cell_type": "code",
   "execution_count": 3,
   "metadata": {},
   "outputs": [
    {
     "name": "stdout",
     "output_type": "stream",
     "text": [
      "[[     1      1      1      1      1      1      1      1      1]\n",
      " [     1      2      4      8     16     32     64    128    256]\n",
      " [     1      3      9     27     81    243    729   2187   6561]\n",
      " [     1      4     16     64    256   1024   4096  16384  65536]\n",
      " [     1      5     25    125    625   3125  15625  78125 390625]]\n",
      "X= [[     1      1      1      1      1      1      1      1      1]\n",
      " [     1      2      4      8     16     32     64    128    256]\n",
      " [     1      3      9     27     81    243    729   2187   6561]\n",
      " [     1      4     16     64    256   1024   4096  16384  65536]\n",
      " [     1      5     25    125    625   3125  15625  78125 390625]]\n",
      "y= [ 1  3  7  9 12]\n",
      "LinearRegression(copy_X=True, fit_intercept=True, n_jobs=1, normalize=False)\n",
      "0.7460715830312932\n",
      "[ 3.47890553e-13  1.80955377e-02  4.48480472e-02  7.61249259e-02\n",
      "  9.29833607e-02  5.67649909e-02 -4.09028714e-02  6.22482004e-03\n",
      " -2.10394275e-04]\n"
     ]
    }
   ],
   "source": [
    "import numpy as np\n",
    "import pandas as pd\n",
    "import matplotlib.pyplot as plt\n",
    "\n",
    "##########\n",
    "X= [[1,2,3,4,5]]\n",
    "X.append(list(map(lambda x:x*x,  X[0])))\n",
    "X.append(list(map(lambda x:x*x*x,  X[0])))\n",
    "X.append(list(map(lambda x:x*x*x*x,  X[0])))\n",
    "X.append(list(map(lambda x:x*x*x*x*x,  X[0])))\n",
    "X.append(list(map(lambda x:x*x*x*x*x*x,  X[0])))\n",
    "X.append(list(map(lambda x:x*x*x*x*x*x*x,  X[0])))\n",
    "X.append(list(map(lambda x:x*x*x*x*x*x*x*x,  X[0])))\n",
    "y= np.array([1, 3, 7, 9, 12])\n",
    "ones= [[1]*5]\n",
    "X= np.array(ones + X)\n",
    "\n",
    "###########\n",
    "\n",
    "X= X.T\n",
    "print(X)\n",
    "\n",
    "print('X=', X)\n",
    "print('y=', y)\n",
    "\n",
    "from sklearn.linear_model import LinearRegression\n",
    "lm = LinearRegression()\n",
    "lm\n",
    "\n",
    "print(lm.fit(X, y))\n",
    "\n",
    "print(lm.intercept_)\n",
    "print(lm.coef_)"
   ]
  },
  {
   "cell_type": "markdown",
   "metadata": {},
   "source": [
    "## Plot on the degree 8 regression"
   ]
  },
  {
   "cell_type": "code",
   "execution_count": 4,
   "metadata": {},
   "outputs": [
    {
     "data": {
      "image/png": "[encoded data removed]",
      "text/plain": [
       "<matplotlib.figure.Figure at 0x9ef4910>"
      ]
     },
     "metadata": {},
     "output_type": "display_data"
    }
   ],
   "source": [
    "## Plot on the degree 8 regression\n",
    "plt.scatter(X[:,1], y, color = \"m\",\n",
    "               marker = \"o\", s = 30)\n",
    "h_x=lm.predict(X)\n",
    "plt.plot(X[:,1], h_x, color = \"r\")\n",
    "plt.show()"
   ]
  },
  {
   "cell_type": "markdown",
   "metadata": {},
   "source": [
    "# Regularised Linear Regression"
   ]
  },
  {
   "cell_type": "code",
   "execution_count": 135,
   "metadata": {},
   "outputs": [
    {
     "name": "stdout",
     "output_type": "stream",
     "text": [
      "X= [[1, 1, 1, 1, 1], [1, 2, 3, 4, 5], [1, 4, 9, 16, 25], [1, 8, 27, 64, 125], [1, 16, 81, 256, 625], [1, 32, 243, 1024, 3125], [1, 64, 729, 4096, 15625], [1, 128, 2187, 16384, 78125], [1, 256, 6561, 65536, 390625]]\n",
      "y= [1, 3, 7, 9, 12]\n",
      "theta=  [0.5488135  0.71518937 0.60276338 0.54488318 0.4236548  0.64589411\n",
      " 0.43758721 0.891773   0.96366276]\n"
     ]
    }
   ],
   "source": [
    "import numpy as np\n",
    "import pandas as pd\n",
    "import matplotlib.pyplot as plt\n",
    "\n",
    "##########\n",
    "X= [[1,2,3,4,5]]\n",
    "X.append(list(map(lambda x:x*x,  X[0])))\n",
    "X.append(list(map(lambda x:x*x*x,  X[0])))\n",
    "X.append(list(map(lambda x:x*x*x*x,  X[0])))\n",
    "X.append(list(map(lambda x:x*x*x*x*x,  X[0])))\n",
    "X.append(list(map(lambda x:x*x*x*x*x*x,  X[0])))\n",
    "X.append(list(map(lambda x:x*x*x*x*x*x*x,  X[0])))\n",
    "X.append(list(map(lambda x:x*x*x*x*x*x*x*x,  X[0])))\n",
    "\n",
    "y= [1, 3, 7, 9, 12]\n",
    "\n",
    "ones= [[1]*5]\n",
    "X= ones + X\n",
    "\n",
    "###########\n",
    "\n",
    "np.random.seed(0)\n",
    "theta= np.random.rand(len(X))\n",
    "\n",
    "print('X=', X)\n",
    "print('y=', y)\n",
    "print('theta= ', theta)"
   ]
  },
  {
   "cell_type": "markdown",
   "metadata": {},
   "source": [
    "# Feature Scaling"
   ]
  },
  {
   "cell_type": "code",
   "execution_count": 136,
   "metadata": {},
   "outputs": [
    {
     "name": "stdout",
     "output_type": "stream",
     "text": [
      "X=  [[ 0.00000000e+00 -1.41421356e+00 -1.15624323e+00 -9.65227985e-01\n",
      "  -8.36289072e-01 -7.49359770e-01 -6.88890788e-01 -6.45342320e-01\n",
      "  -6.13073323e-01]\n",
      " [ 0.00000000e+00 -7.07106781e-01 -8.09370258e-01 -8.11668987e-01\n",
      "  -7.71893096e-01 -7.23081316e-01 -6.78310554e-01 -6.41109803e-01\n",
      "  -6.11384959e-01]\n",
      " [ 0.00000000e+00  0.00000000e+00 -2.31248645e-01 -3.94865994e-01\n",
      "  -4.92843868e-01 -5.44218294e-01 -5.66630307e-01 -5.72489691e-01\n",
      "  -5.69639340e-01]\n",
      " [ 0.00000000e+00  7.07106781e-01  5.78121613e-01  4.16802993e-01\n",
      "   2.58442516e-01  1.17829195e-01 -1.17558155e-03 -9.93475241e-02\n",
      "  -1.79163857e-01]\n",
      " [ 0.00000000e+00  1.41421356e+00  1.61874052e+00  1.75495997e+00\n",
      "   1.84258352e+00  1.89883019e+00  1.93500723e+00  1.95828934e+00\n",
      "   1.97326148e+00]]\n",
      "y=  [-1.35680105 -0.85428214  0.15075567  0.65327458  1.40705294]\n"
     ]
    }
   ],
   "source": [
    "from sklearn import preprocessing\n",
    "X = preprocessing.scale(X, axis=1)\n",
    "X= np.array(X)\n",
    "X=X.T\n",
    "y = preprocessing.scale(y)\n",
    "\n",
    "print('X= ', X)\n",
    "print('y= ', y)"
   ]
  },
  {
   "cell_type": "markdown",
   "metadata": {},
   "source": [
    "## Plot functions"
   ]
  },
  {
   "cell_type": "code",
   "execution_count": 137,
   "metadata": {},
   "outputs": [],
   "source": [
    "def plotFunction_R(X, y, theta):\n",
    "    plt.scatter(X[:,1], y, color = \"m\",\n",
    "               marker = \"o\", s = 30)\n",
    "\n",
    "    h_x= X.dot(theta)\n",
    "    plt.plot(X[:,1], h_x, color = \"r\")\n",
    "    plt.show()\n",
    "    \n",
    "    \n",
    "def plotJ_R(J, max_iters):\n",
    "    plt.plot(range(1, max_iters+1), J, color = \"r\")\n",
    "    plt.show()"
   ]
  },
  {
   "cell_type": "markdown",
   "metadata": {},
   "source": [
    "## Modified Cost function"
   ]
  },
  {
   "cell_type": "code",
   "execution_count": 138,
   "metadata": {},
   "outputs": [],
   "source": [
    "def costFunction_R(X, y, theta, lambda_):\n",
    "    h= X.dot(theta)\n",
    "    err= h-y\n",
    "    return 0.5/X.shape[0]* (sum(err*err) + lambda_*sum(theta[1:]*theta[1:]))"
   ]
  },
  {
   "cell_type": "markdown",
   "metadata": {},
   "source": [
    "## Modified Gradient Descent Algorithm"
   ]
  },
  {
   "cell_type": "code",
   "execution_count": 139,
   "metadata": {},
   "outputs": [],
   "source": [
    "def linearReg_R(X, y, theta, alpha=0.01, max_iters=1500, lambda_=1):\n",
    "    m= y.shape[0]\n",
    "    J_error=[]\n",
    "    for i in range(max_iters):\n",
    "        h_x= X.dot(theta)\n",
    "        \n",
    "        gradient= np.array([0.0]*theta.shape[0])\n",
    "        \n",
    "        gradient[0]= 1/m*sum(h_x- y)\n",
    "        \n",
    "        for j in range(1,theta.shape[0]):\n",
    "            gradient[j]= 1/m*(h_x- y).dot(X[:, j]) + lambda_/m*theta[j]\n",
    "        \n",
    "        theta= theta- alpha*gradient\n",
    "        J_error.append(costFunction_R(X, y, theta, lambda_))\n",
    "    \n",
    "    plotFunction_R(X,y,theta)\n",
    "    plotJ_R(J_error, max_iters)\n",
    "    return theta"
   ]
  },
  {
   "cell_type": "markdown",
   "metadata": {},
   "source": [
    "## Running it all from main()"
   ]
  },
  {
   "cell_type": "code",
   "execution_count": 143,
   "metadata": {},
   "outputs": [
    {
     "data": {
      "image/png": "[encoded data removed]",
      "text/plain": [
       "<matplotlib.figure.Figure at 0x2e65cf0>"
      ]
     },
     "metadata": {},
     "output_type": "display_data"
    },
    {
     "data": {
      "image/png": "[encoded data removed]",
      "text/plain": [
       "<matplotlib.figure.Figure at 0x2d64c90>"
      ]
     },
     "metadata": {},
     "output_type": "display_data"
    },
    {
     "data": {
      "text/plain": [
       "array([0.5488135 , 0.2774673 , 0.20706788, 0.14583085, 0.09934227,\n",
       "       0.06567521, 0.04153835, 0.024151  , 0.01149015])"
      ]
     },
     "execution_count": 143,
     "metadata": {},
     "output_type": "execute_result"
    }
   ],
   "source": [
    "linearReg_R(X, y, theta, alpha=0.01, max_iters= 5000, lambda_= 3)"
   ]
  }
 ],
 "metadata": {
  "kernelspec": {
   "display_name": "Python 3",
   "language": "python",
   "name": "python3"
  },
  "language_info": {
   "codemirror_mode": {
    "name": "ipython",
    "version": 3
   },
   "file_extension": ".py",
   "mimetype": "text/x-python",
   "name": "python",
   "nbconvert_exporter": "python",
   "pygments_lexer": "ipython3",
   "version": "3.6.4"
  }
 },
 "nbformat": 4,
 "nbformat_minor": 2
}
