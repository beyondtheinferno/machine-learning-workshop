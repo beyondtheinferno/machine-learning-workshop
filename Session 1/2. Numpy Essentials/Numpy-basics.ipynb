{
 "cells": [
  {
   "cell_type": "markdown",
   "metadata": {},
   "source": [
    "# Welcome to Numpy basics!\n",
    "\n",
    "### Pre-requisites for this tutorial : \n",
    "* Basics of Python\n",
    "\n",
    "### Strong Recommendation :\n",
    "* Keep looking into the documentation of this package simultaneously as you progress. There's loads of functionality under the hood that I'm not covering here."
   ]
  },
  {
   "cell_type": "markdown",
   "metadata": {},
   "source": [
    "## What is Numpy?\n",
    "\n",
    "### Definition \n",
    "***numpy*** is a Python library, adding support for large, multi-dimensional arrays and matrices, along with a large collection of high-level mathematical functions to operate on these arrays. numpy = numeric python.\n",
    "\n",
    "### Explain Like I'm Five Definition - \n",
    "***Array addition without numpy - *** \n",
    "```\n",
    "for(i=0;i<4;i++):\n",
    "    c[i] = a[i] + b[i]\n",
    "    printf('%d \\t', c[i])\n",
    "```\n",
    "***Array addition with numpy - *** \n",
    "```\n",
    "c = np.add(a,b)\n",
    "```\n",
    "\n",
    "Cool right?!?\n",
    "\n",
    "numpy works under the hood of many packages like pandas, scikit-learn and more. So fundamental understanding of how it works is important to have a hassle free experience with others. Plus, this package will haunt you tomorrow if you don't listen now ;)"
   ]
  },
  {
   "cell_type": "markdown",
   "metadata": {},
   "source": [
    "## Why not python lists?\n",
    "\n",
    "Lists are - \n",
    "* Collection of different datatypes\n",
    "* Easy changing of elements by append, indexing or slicing\n",
    "* Easy to use\n",
    "\n",
    "But for data science, we need - \n",
    "* Effiency for mathematics operations\n",
    "* Super speedy calculation and less amount of time trying to type the code to achieve it\n",
    "\n",
    "And hence numpy."
   ]
  },
  {
   "cell_type": "markdown",
   "metadata": {},
   "source": [
    "## What are the magic words?\n",
    "To import this package into IPython - "
   ]
  },
  {
   "cell_type": "code",
   "execution_count": 1,
   "metadata": {
    "collapsed": true
   },
   "outputs": [],
   "source": [
    "import numpy as np"
   ]
  },
  {
   "cell_type": "markdown",
   "metadata": {},
   "source": [
    "Why import as np? Because *#conventions*.\n",
    "\n",
    "Now let's wet our feet..."
   ]
  },
  {
   "cell_type": "markdown",
   "metadata": {},
   "source": [
    "## Methods to create a numpy array"
   ]
  },
  {
   "cell_type": "markdown",
   "metadata": {},
   "source": [
    "### 1D and 2D Arrays\n",
    "\n",
    "my_list = [1,2,3,4,5]\n",
    "\n",
    "a = ***np.array(my_list)*** -> Creates a numpy array of my_list\n",
    "\n",
    "Check the type of ***a***\n",
    "\n",
    "*For 2D numpy array, pass a 2D list as the arguement instead of my_list.*"
   ]
  },
  {
   "cell_type": "code",
   "execution_count": 2,
   "metadata": {
    "collapsed": true
   },
   "outputs": [],
   "source": [
    "my_list = [1,2,3,4,5]\n",
    "\n",
    "a = np.array(my_list)"
   ]
  },
  {
   "cell_type": "code",
   "execution_count": 3,
   "metadata": {},
   "outputs": [
    {
     "data": {
      "text/plain": [
       "numpy.ndarray"
      ]
     },
     "execution_count": 3,
     "metadata": {},
     "output_type": "execute_result"
    }
   ],
   "source": [
    "type(a)"
   ]
  },
  {
   "cell_type": "markdown",
   "metadata": {},
   "source": [
    "### Other interesting ways to create a numpy array\n",
    "\n",
    "a = **np.zeros(**(5,2), dtype=int**)** -> Creates a numpy array of the 5 rows and 2 columns, integer type, filled with zeroes\n",
    "\n",
    "a = **np.ones(**(5,2), dtype=int**)** -> Creates a numpy array of the 5 rows and 2 columns, integer type, filled with ones\n",
    "\n",
    "    *What will happen if you don't give dtype=int?*\n",
    "\n",
    "a = **np.eye(**rows, columns**)** -> Identity matrix with 0 as elements, except the diagnol which has 1 as the value. *By default, columns, if not mentioned, is equal to rows*\n",
    "\n",
    "a = **np.random.rand(**d0, d1, d2... dn**)** -> Random array of floating point numbers that lie between (0,1), where d0, d1, d2... dn are the dimensions of the array to be created\n",
    "\n",
    "a = **np.random.randint(3,size=(2,3))** -> Creates a 2x3 numpy array with random integer values that lie in between 0 to 2.\n",
    "\n",
    "Some more techniques for you to explore\n",
    "* **np.linspace()** \n",
    "* **np.arange()**\n",
    "* **np.full()**"
   ]
  },
  {
   "cell_type": "code",
   "execution_count": 21,
   "metadata": {},
   "outputs": [],
   "source": [
    "a1 = np.zeros(10)\n",
    "a2 = np.ones(10)"
   ]
  },
  {
   "cell_type": "markdown",
   "metadata": {
    "collapsed": true
   },
   "source": [
    "### Finding the properties of the numpy array\n",
    "\n",
    "If a is the numpy array\n",
    "\n",
    "* a**.size** -> Returns the number of elements in the numpy array\n",
    "* a**.dtype** -> Returns type of elements in arr (int, float)\n",
    "* a**.astype(dtype)** -> Convert numpy array elements to the given type (dtype)\n",
    "* a**.shape** -> Returns the dimensions of the numpy array\n",
    "* a**.tolist()** -> Converts the numpy array to a Python list"
   ]
  },
  {
   "cell_type": "code",
   "execution_count": 19,
   "metadata": {},
   "outputs": [
    {
     "data": {
      "text/plain": [
       "[0.0, 0.0, 0.0, 0.0, 0.0, 0.0, 0.0, 0.0, 0.0, 0.0]"
      ]
     },
     "execution_count": 19,
     "metadata": {},
     "output_type": "execute_result"
    }
   ],
   "source": [
    "a.tolist()\n"
   ]
  },
  {
   "cell_type": "markdown",
   "metadata": {},
   "source": [
    "### Math - Scalar and Vector\n",
    "\n",
    "#### Scalar\n",
    "\n",
    "* np.add(a,1) -> Add 1 to each array element\n",
    "* np.subtract(a,2) -> Subtract 2 from each array element\n",
    "* np.multiply(a,3) -> Multiply each array element by 3\n",
    "* np.divide(a,4) -> Divide each array element by 4 (it returns np.nan for division by zero)\n",
    "* np.power(a,5) -> Raise each array element to the 5th power\n",
    "\n",
    "#### Vector Math\n",
    "\n",
    "* np.add(a1,a2) -> Elementwise add a2 to a1\n",
    "* np.subtract(a1,a2) -> Elementwise subtract a2 from a1\n",
    "* np.multiply(a1,a2) -> Elementwise multiply a1 by a2\n",
    "* np.divide(a1,a2) -> Elementwise divide a1 by a2\n",
    "* np.power(a1,a2) -> Elementwise raise a1 raised to the power of a2\n",
    "\n",
    "* np.array_equal(a1,a2) -> Returns True if the arrays have the same elements and shape *(Note - a1 == a2 -> Returns True if the arrays have the same elements)*\n",
    "* np.sqrt(a) -> Square root of each element in the array\n",
    "* np.round(a) -> Rounds to the nearest int"
   ]
  },
  {
   "cell_type": "code",
   "execution_count": 22,
   "metadata": {},
   "outputs": [
    {
     "data": {
      "text/plain": [
       "array([ 1.,  1.,  1.,  1.,  1.,  1.,  1.,  1.,  1.,  1.])"
      ]
     },
     "execution_count": 22,
     "metadata": {},
     "output_type": "execute_result"
    }
   ],
   "source": [
    "b = np.add(a1,a2)\n",
    "b"
   ]
  },
  {
   "cell_type": "markdown",
   "metadata": {},
   "source": [
    "### Statistical Analysis\n",
    "\n",
    "* np.mean(a) -> Returns mean along specific axis\n",
    "* np.sum(a) -> Returns sum of all values in a\n",
    "* a.min() -> Returns minimum value of a\n",
    "* a.max() -> Returns maximum value of specific axis\n",
    "\n",
    "A few more for you to discover - \n",
    "* np.var(a)\n",
    "* np.std(a)"
   ]
  },
  {
   "cell_type": "code",
   "execution_count": 27,
   "metadata": {},
   "outputs": [
    {
     "name": "stdout",
     "output_type": "stream",
     "text": [
      "4.0 4.0\n"
     ]
    }
   ],
   "source": [
    "a = np.array([1,2,3,4,5,6,7])\n",
    "b = np.mean(a)\n",
    "c = a.mean()\n",
    "print(b, c)"
   ]
  },
  {
   "cell_type": "markdown",
   "metadata": {},
   "source": [
    "### Summation for thought - \n",
    "\n",
    "Are all these same?\n",
    "\n",
    "1. sum_value = np.sum(a)\n",
    "2. columnSum = np.sum(a, axis = 0)\n",
    "3. rowSum = np.sum(a, axis = 1)"
   ]
  },
  {
   "cell_type": "code",
   "execution_count": 29,
   "metadata": {},
   "outputs": [],
   "source": [
    "a = np.array([[1,2],[3,4]])\n",
    "sum_value = np.sum(a)\n",
    "columnSum = np.sum(a, axis = 0)\n",
    "rowSum = np.sum(a, axis = 1)"
   ]
  },
  {
   "cell_type": "code",
   "execution_count": 35,
   "metadata": {},
   "outputs": [
    {
     "data": {
      "text/plain": [
       "array([[1, 2],\n",
       "       [3, 4]])"
      ]
     },
     "execution_count": 35,
     "metadata": {},
     "output_type": "execute_result"
    }
   ],
   "source": [
    "a"
   ]
  },
  {
   "cell_type": "code",
   "execution_count": 34,
   "metadata": {},
   "outputs": [
    {
     "name": "stdout",
     "output_type": "stream",
     "text": [
      "10 [4 6] [3 7]\n"
     ]
    }
   ],
   "source": [
    "print(sum_value, columnSum, rowSum)"
   ]
  },
  {
   "cell_type": "markdown",
   "metadata": {},
   "source": [
    "**From the results produced above, the answer is a big...**\n",
    "# NO\n",
    "\n",
    "\n",
    "1. Gives sum of all values\n",
    "2. Gives sum of columns\n",
    "3. Gives sum of rows\n",
    "\n",
    "The methods mentioned in Statistics column all have a parameter 'axis'. Try and find out how each time it performs a different function with changing values for 'axis'"
   ]
  },
  {
   "cell_type": "markdown",
   "metadata": {},
   "source": [
    "## And with that, we wrap up numpy..."
   ]
  },
  {
   "cell_type": "markdown",
   "metadata": {},
   "source": [
    "![That's all folks! See you in the next topic.](see-you.jpg)"
   ]
  }
 ],
 "metadata": {
  "kernelspec": {
   "display_name": "Python 3",
   "language": "python",
   "name": "python3"
  },
  "language_info": {
   "codemirror_mode": {
    "name": "ipython",
    "version": 3
   },
   "file_extension": ".py",
   "mimetype": "text/x-python",
   "name": "python",
   "nbconvert_exporter": "python",
   "pygments_lexer": "ipython3",
   "version": "3.6.3"
  }
 },
 "nbformat": 4,
 "nbformat_minor": 2
}
