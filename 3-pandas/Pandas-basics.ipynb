{
 "cells": [
  {
   "cell_type": "markdown",
   "metadata": {},
   "source": [
    "# Welcome to Pandas basics!\n",
    "\n",
    "### What to expect after going through this notebook :\n",
    "* A good understanding of Pandas and its working\n",
    "* Load data from external sources into the notebook\n",
    "* Make sense out of the data\n",
    "* Prepare the data for the Machine Learning algorithms\n",
    "\n",
    "### What not to expect :\n",
    "* You won't become a data-importing / data-cleaning ninja just by learning this notebook\n",
    "\n",
    "### Pre-requisites for this tutorial : \n",
    "* A teensy bit of GoT / ASIOF knowledge to fully understand the task at the end of this tutorial :)"
   ]
  },
  {
   "cell_type": "markdown",
   "metadata": {},
   "source": [
    "## What is Pandas?\n",
    "\n",
    "### Definition \n",
    "***pandas*** is an open source, BSD-licensed library providing high-performance, easy-to-use data structures and data analysis tools for the Python programming language.\n",
    "\n",
    "### Explain Like I'm Five Definition - \n",
    "***pandas*** is a data handling package on which [someone](https://pandas.pydata.org/) spent months developing so that you can get your job done in seconds.\n",
    "\n",
    "### Why Pandas?\n",
    "* Makes data importing easier\n",
    "* Makes data organizing easier\n",
    "* Makes data filtering easier\n",
    "* Makes data exporting easier\n",
    "\n",
    "Makes life as a data scientist easier, to be short."
   ]
  },
  {
   "cell_type": "markdown",
   "metadata": {},
   "source": [
    "## What are the magic words?\n",
    "To import this package into python - "
   ]
  },
  {
   "cell_type": "code",
   "execution_count": null,
   "metadata": {
    "collapsed": true
   },
   "outputs": [],
   "source": [
    "import pandas as pd"
   ]
  },
  {
   "cell_type": "markdown",
   "metadata": {},
   "source": [
    "Now let's dive in..."
   ]
  },
  {
   "cell_type": "markdown",
   "metadata": {},
   "source": [
    "## 1. Building DataFrames with Pandas"
   ]
  },
  {
   "cell_type": "markdown",
   "metadata": {},
   "source": [
    "### 1.1 - DataFrames from Python Dictionaries"
   ]
  },
  {
   "cell_type": "code",
   "execution_count": null,
   "metadata": {},
   "outputs": [],
   "source": [
    "dog_dict = {\n",
    "    'name': ['Freddie','Bruno'], \n",
    "    'age': [9, 7], \n",
    "    'is_vaccinated': [True, False], \n",
    "    'height': [1.1, 2.3],  \n",
    "    'birth_year': [2001, 2003]\n",
    "}\n",
    "\n",
    "dog_dataframe = pd.DataFrame(dog_dict)\n",
    "dog_dataframe"
   ]
  },
  {
   "cell_type": "markdown",
   "metadata": {},
   "source": [
    "Cool! But why did the order of columns change in the dataframe?"
   ]
  },
  {
   "cell_type": "code",
   "execution_count": null,
   "metadata": {},
   "outputs": [],
   "source": [
    "dog_dataframe = pd.DataFrame(dog_dict, columns = dog_dict.keys())\n",
    "dog_dataframe"
   ]
  },
  {
   "cell_type": "markdown",
   "metadata": {},
   "source": [
    "### 1.2 - DataFrames from Python Lists"
   ]
  },
  {
   "cell_type": "code",
   "execution_count": null,
   "metadata": {},
   "outputs": [],
   "source": [
    "name = ['Freddie','Bruno']\n",
    "age = [9, 7]\n",
    "is_vaccinated = [True, False]\n",
    "height = [1.1, 2.3]\n",
    "birth_year = [2001, 2003]\n",
    "\n",
    "list_labels = ['name', 'age', 'is_vaccinated', 'height', 'birth_year']\n",
    "list_cols = [name, age, is_vaccinated, height, birth_year]\n",
    "z = list(zip(list_labels, list_cols))\n",
    "print(z)"
   ]
  },
  {
   "cell_type": "code",
   "execution_count": null,
   "metadata": {},
   "outputs": [],
   "source": [
    "dog_data = dict(z)\n",
    "dog_dataframe2 = pd.DataFrame(dog_data, columns = dog_dict.keys())\n",
    "dog_dataframe2"
   ]
  },
  {
   "cell_type": "markdown",
   "metadata": {},
   "source": [
    "## 2. Importing data with Pandas"
   ]
  },
  {
   "cell_type": "markdown",
   "metadata": {},
   "source": [
    "### 2.1 - Dataframes from CSV files"
   ]
  },
  {
   "cell_type": "code",
   "execution_count": null,
   "metadata": {},
   "outputs": [],
   "source": [
    "my_first_dataframe = pd.read_csv('got-character-deaths.csv')\n",
    "my_first_dataframe"
   ]
  },
  {
   "cell_type": "markdown",
   "metadata": {},
   "source": [
    "### 2.EX Try this out \n",
    "Import `got-character-deaths1.csv` file into pandas DataFrame and assign column labels to the DataFrame"
   ]
  },
  {
   "cell_type": "code",
   "execution_count": null,
   "metadata": {
    "collapsed": true
   },
   "outputs": [],
   "source": [
    "#your-code_goes-here"
   ]
  },
  {
   "cell_type": "markdown",
   "metadata": {},
   "source": [
    "## 3. Export DataFrame using Pandas"
   ]
  },
  {
   "cell_type": "markdown",
   "metadata": {},
   "source": [
    "### 3.1 To CSV File"
   ]
  },
  {
   "cell_type": "code",
   "execution_count": null,
   "metadata": {
    "collapsed": true
   },
   "outputs": [],
   "source": [
    "my_first_dataframe.to_csv('my_first_export.csv')"
   ]
  },
  {
   "cell_type": "markdown",
   "metadata": {},
   "source": [
    "### 3.2 To Excel File"
   ]
  },
  {
   "cell_type": "code",
   "execution_count": null,
   "metadata": {
    "collapsed": true
   },
   "outputs": [],
   "source": [
    "my_first_dataframe.to_excel('my_second_export.xlsx')"
   ]
  },
  {
   "cell_type": "markdown",
   "metadata": {},
   "source": [
    "### 3.EX Try this out \n",
    "Export `my_first_dataframe` to a CSV file, separated by `/`"
   ]
  },
  {
   "cell_type": "code",
   "execution_count": null,
   "metadata": {
    "collapsed": true
   },
   "outputs": [],
   "source": [
    "#your-code_goes-here"
   ]
  },
  {
   "cell_type": "markdown",
   "metadata": {},
   "source": [
    "## 4. Dataframe Basics Methods"
   ]
  },
  {
   "cell_type": "code",
   "execution_count": null,
   "metadata": {},
   "outputs": [],
   "source": [
    "a = my_first_dataframe\n",
    "type(a)"
   ]
  },
  {
   "cell_type": "markdown",
   "metadata": {},
   "source": [
    "### .info()\n",
    "data-frame.**info()** -> Displays useful information about the dataframe"
   ]
  },
  {
   "cell_type": "code",
   "execution_count": null,
   "metadata": {
    "collapsed": true
   },
   "outputs": [],
   "source": [
    "#Try it out\n",
    "a.info()"
   ]
  },
  {
   "cell_type": "markdown",
   "metadata": {},
   "source": [
    "### .shape\n",
    "data-frame.shape -> Shows the no. of rows and columns"
   ]
  },
  {
   "cell_type": "code",
   "execution_count": null,
   "metadata": {},
   "outputs": [],
   "source": [
    "#Try it out\n",
    "a.shape"
   ]
  },
  {
   "cell_type": "markdown",
   "metadata": {},
   "source": [
    "### .columns\n",
    "data-frame.columns -> Diplays an Index item containing column names"
   ]
  },
  {
   "cell_type": "code",
   "execution_count": null,
   "metadata": {},
   "outputs": [],
   "source": [
    "#Try it out\n",
    "a.columns"
   ]
  },
  {
   "cell_type": "markdown",
   "metadata": {},
   "source": [
    "### .head() and .tail()\n",
    "data-frame**.head(n)** -> Displays the first n rows of the dataframe\n",
    "\n",
    "data-frame**.tail(n)** -> Displays the last n rows of the dataframe\n",
    "\n",
    "If n is not mentioned - default value = 5"
   ]
  },
  {
   "cell_type": "code",
   "execution_count": null,
   "metadata": {},
   "outputs": [],
   "source": [
    "#Try them out\n",
    "a.head()"
   ]
  },
  {
   "cell_type": "markdown",
   "metadata": {},
   "source": [
    "### Indexing DataFrames - .iloc[ ]\n",
    "data-frame.**iloc[]** -> retrieve a particular set of rows and columns\n",
    "\n",
    "#### What .iloc[ ] accepts as arguements ->\n",
    "* integer -> 3\n",
    "* list of integers -> [3,5,7,8]\n",
    "* slice objects -> 0:9\n",
    "\n",
    "Eg:\n",
    "\n",
    "* data-frame**.iloc[4]**                    -> Gets row 4\n",
    "* data-frame**.iloc[[2,3,4,5], [2,4]]**     -> Gets rows 2,3,4,5 with columns 2 and 4\n",
    "* data-frame**.iloc[:5, 1:3]**              -> Gets rows 0 to 4 with columns 1 to 2\n",
    "\n",
    "*Remember - if slice is a:b, then a is included, b is excluded*"
   ]
  },
  {
   "cell_type": "code",
   "execution_count": null,
   "metadata": {},
   "outputs": [],
   "source": [
    "a.iloc[]"
   ]
  },
  {
   "cell_type": "markdown",
   "metadata": {},
   "source": [
    "### Indexing DataFrames - .loc[ ]\n",
    "data-frame.**loc[]** -> retrieve a particular set of rows and columns\n",
    "\n",
    "#### What .loc[ ] accepts as arguements ->\n",
    "* integer -> 3\n",
    "* list of integers and column labels -> ['Death Year', 'Death Chapter']\n",
    "* slice objects -> 0:9\n",
    "\n",
    "Eg:\n",
    "\n",
    "* data-frame**.loc[:5, ['Death Year', 'Death Chapter']]**   -> Gets 0 to 5 rows with columns labeled Death Year and Death Chapter\n",
    "* data-frame**.loc[[2,3,4,5], [2,4]]**                      -> Gets rows 2,3,4,5 with columns 2 and 4\n",
    "* data-frame**.loc[:5, 1:3]**                               -> Gets rows 0 to 5 with columns 1 to 3\n",
    "\n",
    "*Remember - if slice is a:b, then a and b both are included*"
   ]
  },
  {
   "cell_type": "code",
   "execution_count": null,
   "metadata": {
    "collapsed": true
   },
   "outputs": [],
   "source": [
    "a.loc[]"
   ]
  },
  {
   "cell_type": "markdown",
   "metadata": {},
   "source": [
    "### Indexing DataFrames - Get a column as Series Object\n",
    "data-frame**[*column_name*]** -> retrieve a particular set of rows and columns\n",
    "\n",
    "Eg:\n",
    "\n",
    "* data-frame[['Death Year', 'Death Chapter']] -> Fetches both the mentioned columns as a Series object\n",
    "* \n",
    "\n",
    "*Note - Series object can contain datas of mixed type*"
   ]
  },
  {
   "cell_type": "code",
   "execution_count": null,
   "metadata": {
    "collapsed": true
   },
   "outputs": [],
   "source": [
    "a[]"
   ]
  },
  {
   "cell_type": "markdown",
   "metadata": {},
   "source": []
  }
 ],
 "metadata": {
  "kernelspec": {
   "display_name": "Python 3",
   "language": "python",
   "name": "python3"
  },
  "language_info": {
   "codemirror_mode": {
    "name": "ipython",
    "version": 3
   },
   "file_extension": ".py",
   "mimetype": "text/x-python",
   "name": "python",
   "nbconvert_exporter": "python",
   "pygments_lexer": "ipython3",
   "version": "3.6.3"
  }
 },
 "nbformat": 4,
 "nbformat_minor": 2
}
