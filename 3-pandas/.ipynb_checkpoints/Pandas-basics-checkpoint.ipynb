{
 "cells": [
  {
   "cell_type": "markdown",
   "metadata": {},
   "source": [
    "# Welcome to Pandas basics!\n",
    "\n",
    "### What to expect after going through this notebook :\n",
    "* A good understanding of Pandas and its working\n",
    "* Load data from external sources into the notebook\n",
    "* Make sense out of the data\n",
    "* Prepare the data for the Machine Learning algorithms\n",
    "\n",
    "### What not to expect :\n",
    "* You won't become a data-importing / data-cleaning ninja just by learning this notebook\n",
    "\n",
    "### Pre-requisites for this tutorial : \n",
    "* Basic Python, teensy bit of numpy\n",
    "* A teensy bit of GoT / ASIOF knowledge will help to fully understand the task at the end of this tutorial :)\n",
    "\n",
    "### Strong Recommendation :\n",
    "* Keep looking into the documentation of this package simultaneously as you progress. There's loads of functionality under the hood that I'm not covering here."
   ]
  },
  {
   "cell_type": "markdown",
   "metadata": {},
   "source": [
    "## What is Pandas?\n",
    "\n",
    "### Definition \n",
    "***pandas*** is an open source, BSD-licensed library providing high-performance, easy-to-use data structures and data analysis tools for the Python programming language.\n",
    "\n",
    "### Explain Like I'm Five Definition - \n",
    "***pandas*** is a data handling package which [someone](https://pandas.pydata.org/) spent months developing so that you can get your job done in seconds.\n",
    "\n",
    "### Why Pandas?\n",
    "* Makes data importing easier\n",
    "* Makes data organizing easier\n",
    "* Makes data filtering easier\n",
    "* Makes data exporting easier\n",
    "\n",
    "Makes life as a data scientist easier, to be short."
   ]
  },
  {
   "cell_type": "markdown",
   "metadata": {},
   "source": [
    "## What are the magic words?\n",
    "To import this package into IPython - "
   ]
  },
  {
   "cell_type": "code",
   "execution_count": null,
   "metadata": {
    "collapsed": true
   },
   "outputs": [],
   "source": [
    "import pandas as pd"
   ]
  },
  {
   "cell_type": "markdown",
   "metadata": {},
   "source": [
    "Why import as pd? Because *#conventions*.\n",
    "\n",
    "Now let's dive in..."
   ]
  },
  {
   "cell_type": "markdown",
   "metadata": {},
   "source": [
    "## 1. Building DataFrames with Pandas"
   ]
  },
  {
   "cell_type": "markdown",
   "metadata": {},
   "source": [
    "### 1.1 - DataFrames from Python Dictionaries"
   ]
  },
  {
   "cell_type": "code",
   "execution_count": null,
   "metadata": {
    "collapsed": true
   },
   "outputs": [],
   "source": [
    "dog_dict = {\n",
    "    'name': ['Freddie','Bruno'], \n",
    "    'age': [9, 7], \n",
    "    'is_vaccinated': [True, False], \n",
    "    'height': [1.1, 2.3],  \n",
    "    'birth_year': [2001, 2003]\n",
    "}\n",
    "\n",
    "dog_dataframe = pd.DataFrame(dog_dict)\n",
    "dog_dataframe"
   ]
  },
  {
   "cell_type": "markdown",
   "metadata": {},
   "source": [
    "Cool! But why did the order of columns change in the dataframe?"
   ]
  },
  {
   "cell_type": "code",
   "execution_count": null,
   "metadata": {
    "collapsed": true
   },
   "outputs": [],
   "source": [
    "dog_dataframe = pd.DataFrame(dog_dict, columns = dog_dict.keys())\n",
    "dog_dataframe"
   ]
  },
  {
   "cell_type": "markdown",
   "metadata": {},
   "source": [
    "### 1.2 - DataFrames from Python Lists"
   ]
  },
  {
   "cell_type": "code",
   "execution_count": null,
   "metadata": {
    "collapsed": true
   },
   "outputs": [],
   "source": [
    "name = ['Freddie','Bruno']\n",
    "age = [9, 7]\n",
    "is_vaccinated = [True, False]\n",
    "height = [1.1, 2.3]\n",
    "birth_year = [2001, 2003]\n",
    "\n",
    "list_labels = ['name', 'age', 'is_vaccinated', 'height', 'birth_year']\n",
    "list_cols = [name, age, is_vaccinated, height, birth_year]\n",
    "z = list(zip(list_labels, list_cols))\n",
    "print(z)"
   ]
  },
  {
   "cell_type": "code",
   "execution_count": null,
   "metadata": {
    "collapsed": true
   },
   "outputs": [],
   "source": [
    "dog_data = dict(z)\n",
    "dog_dataframe2 = pd.DataFrame(dog_data, columns = dog_dict.keys())\n",
    "dog_dataframe2"
   ]
  },
  {
   "cell_type": "markdown",
   "metadata": {},
   "source": [
    "## 2. Importing data with Pandas"
   ]
  },
  {
   "cell_type": "markdown",
   "metadata": {},
   "source": [
    "### 2.1 - Dataframes from CSV files"
   ]
  },
  {
   "cell_type": "code",
   "execution_count": null,
   "metadata": {
    "collapsed": true
   },
   "outputs": [],
   "source": [
    "my_first_dataframe = pd.read_csv('got-character-deaths.csv')\n",
    "my_first_dataframe"
   ]
  },
  {
   "cell_type": "markdown",
   "metadata": {},
   "source": [
    "### 2.EX Try this out \n",
    "Import `got-character-deaths1.csv` file into pandas DataFrame and assign column labels to the DataFrame"
   ]
  },
  {
   "cell_type": "code",
   "execution_count": null,
   "metadata": {
    "collapsed": true
   },
   "outputs": [],
   "source": [
    "#your-code_goes-here"
   ]
  },
  {
   "cell_type": "markdown",
   "metadata": {},
   "source": [
    "## 3. Export DataFrame using Pandas"
   ]
  },
  {
   "cell_type": "markdown",
   "metadata": {},
   "source": [
    "### 3.1 To CSV File"
   ]
  },
  {
   "cell_type": "code",
   "execution_count": null,
   "metadata": {
    "collapsed": true
   },
   "outputs": [],
   "source": [
    "my_first_dataframe.to_csv('my_first_export.csv')"
   ]
  },
  {
   "cell_type": "markdown",
   "metadata": {},
   "source": [
    "### 3.2 To Excel File"
   ]
  },
  {
   "cell_type": "code",
   "execution_count": null,
   "metadata": {
    "collapsed": true
   },
   "outputs": [],
   "source": [
    "my_first_dataframe.to_excel('my_second_export.xlsx')"
   ]
  },
  {
   "cell_type": "markdown",
   "metadata": {},
   "source": [
    "### 3.EX Try this out \n",
    "Export `my_first_dataframe` to a CSV file, separated by `/`"
   ]
  },
  {
   "cell_type": "code",
   "execution_count": null,
   "metadata": {
    "collapsed": true
   },
   "outputs": [],
   "source": [
    "#your-code_goes-here"
   ]
  },
  {
   "cell_type": "markdown",
   "metadata": {},
   "source": [
    "## 4. Dataframe Basics Methods"
   ]
  },
  {
   "cell_type": "code",
   "execution_count": null,
   "metadata": {
    "collapsed": true
   },
   "outputs": [],
   "source": [
    "a = my_first_dataframe\n",
    "type(a)"
   ]
  },
  {
   "cell_type": "markdown",
   "metadata": {},
   "source": [
    "### .info()\n",
    "data-frame.**info()** -> Displays useful information about the dataframe"
   ]
  },
  {
   "cell_type": "code",
   "execution_count": null,
   "metadata": {
    "collapsed": true
   },
   "outputs": [],
   "source": [
    "#Try it out\n",
    "a.info()"
   ]
  },
  {
   "cell_type": "markdown",
   "metadata": {},
   "source": [
    "### .shape\n",
    "data-frame.shape -> Shows the no. of rows and columns"
   ]
  },
  {
   "cell_type": "code",
   "execution_count": null,
   "metadata": {
    "collapsed": true
   },
   "outputs": [],
   "source": [
    "#Try it out\n",
    "a.shape"
   ]
  },
  {
   "cell_type": "markdown",
   "metadata": {},
   "source": [
    "### .columns\n",
    "data-frame.columns -> Diplays an Index item containing column names"
   ]
  },
  {
   "cell_type": "code",
   "execution_count": null,
   "metadata": {
    "collapsed": true
   },
   "outputs": [],
   "source": [
    "#Try it out\n",
    "a.columns"
   ]
  },
  {
   "cell_type": "markdown",
   "metadata": {},
   "source": [
    "### .head() and .tail()\n",
    "data-frame**.head(n)** -> Displays the first n rows of the dataframe\n",
    "\n",
    "data-frame**.tail(n)** -> Displays the last n rows of the dataframe\n",
    "\n",
    "If n is not mentioned - default value = 5"
   ]
  },
  {
   "cell_type": "code",
   "execution_count": null,
   "metadata": {
    "collapsed": true
   },
   "outputs": [],
   "source": [
    "#Try them out\n",
    "a.head()"
   ]
  },
  {
   "cell_type": "markdown",
   "metadata": {},
   "source": [
    "### .describe()\n",
    "data-frame**.describe()** -> Statistical data like mean, sd, quartiles and stuff\n",
    "\n",
    "data-frame['column-name']**.describe()** -> Interesting data like - \n",
    "* count -> number of non-null entries\n",
    "* unique -> number of distinct values\n",
    "* top -> entry with highest frequency of occurence\n",
    "* freq -> number of entries of top\n"
   ]
  },
  {
   "cell_type": "code",
   "execution_count": null,
   "metadata": {
    "collapsed": true
   },
   "outputs": [],
   "source": [
    "a.describe()"
   ]
  },
  {
   "cell_type": "code",
   "execution_count": null,
   "metadata": {
    "collapsed": true
   },
   "outputs": [],
   "source": [
    "a['Allegiances'].describe()"
   ]
  },
  {
   "cell_type": "markdown",
   "metadata": {},
   "source": [
    "### Indexing DataFrames - .iloc[ ]\n",
    "data-frame.**iloc[]** -> retrieve a particular set of rows and columns\n",
    "\n",
    "#### What .iloc[ ] accepts as arguements ->\n",
    "* integer -> 3\n",
    "* list of integers -> [3,5,7,8]\n",
    "* slice objects -> 0:9\n",
    "\n",
    "Eg:\n",
    "\n",
    "* data-frame**.iloc[4]**                    -> Gets row 4\n",
    "* data-frame**.iloc[[2,3,4,5], [2,4]]**     -> Gets rows 2,3,4,5 with columns 2 and 4\n",
    "* data-frame**.iloc[:5, 1:3]**              -> Gets rows 0 to 4 with columns 1 to 2\n",
    "\n",
    "*Remember - if slice is a:b, then a is included, b is excluded*"
   ]
  },
  {
   "cell_type": "code",
   "execution_count": null,
   "metadata": {
    "collapsed": true
   },
   "outputs": [],
   "source": [
    "a.iloc[]"
   ]
  },
  {
   "cell_type": "markdown",
   "metadata": {},
   "source": [
    "### Indexing DataFrames - .loc[ ]\n",
    "data-frame.**loc[]** -> retrieve a particular set of rows and columns\n",
    "\n",
    "#### What .loc[ ] accepts as arguements ->\n",
    "* integer -> 3\n",
    "* list of integers and column labels -> ['Death Year', 'Death Chapter']\n",
    "* slice objects -> 0:9\n",
    "\n",
    "Eg:\n",
    "\n",
    "* data-frame**.loc[:5, ['Death Year', 'Death Chapter']]**   -> Gets 0 to 5 rows with columns labeled Death Year and Death Chapter\n",
    "* data-frame**.loc[[2,3,4,5], [2,4]]**                      -> Gets rows 2,3,4,5 with columns 2 and 4\n",
    "* data-frame**.loc[:5, 1:3]**                               -> Gets rows 0 to 5 with columns 1 to 3\n",
    "\n",
    "*Remember - if slice is a:b, then a and b both are included*"
   ]
  },
  {
   "cell_type": "code",
   "execution_count": null,
   "metadata": {
    "collapsed": true
   },
   "outputs": [],
   "source": [
    "a.loc[]"
   ]
  },
  {
   "cell_type": "markdown",
   "metadata": {},
   "source": [
    "### Indexing DataFrames - Get a column as Series Object\n",
    "data-frame**[*column_name*]** -> retrieve a particular set of rows and columns\n",
    "\n",
    "Eg:\n",
    "\n",
    "* data-frame[['Death Year', 'Death Chapter']] -> Fetches both the mentioned columns as a Series object \n",
    "\n",
    "*Note - Series object can contain datas of mixed type*"
   ]
  },
  {
   "cell_type": "markdown",
   "metadata": {
    "collapsed": true
   },
   "source": [
    "## 5. Boolean Indexing and Math\n",
    "* less-than-seven-filter = **data-frame['column-name'] < 7** -> Returns a Series of Boolean values of the *\"column-name\"* to less-than-seven-filter\n",
    "\n",
    "To get the rows that only satisfy the condition, pass this Series as an index to DataFrame\n",
    "* filtered-data-frame = **data-frame[less-than-seven-filter]**\n",
    "\n",
    "*Note - Do not use **filter** as a DataFrame name as it is a keyword in python*"
   ]
  },
  {
   "cell_type": "code",
   "execution_count": null,
   "metadata": {
    "collapsed": true
   },
   "outputs": [],
   "source": [
    "#Your code goes here"
   ]
  },
  {
   "cell_type": "markdown",
   "metadata": {},
   "source": [
    "## 6. Visual Analysis of data\n",
    "\n",
    "* data-frame**.plot(x = 'x-column', y = 'y-column')** -> line plot by default\n",
    "* data-frame**.plot(x = 'x-column', y = 'y-column', kind = 'scatter')** -> scatter plot\n",
    "        arguements for kind - \n",
    "            ‘line’ : line plot (default)\n",
    "            ‘bar’ : vertical bar plot\n",
    "            ‘hist’ : histogram\n",
    "            ‘box’ : boxplot\n",
    "            ‘pie’ : pie plot\n",
    "            ‘scatter’ : scatter plot\n",
    "\n",
    "\n",
    "\n",
    "Using the functionality of **matplotlib.pyplot** library - \n",
    "\n",
    "1. Labeling the axes and title - \n",
    "    * **plt.xlabel('x-label')**\n",
    "    * **plt.ylabel('y-label')**\n",
    "    * **plt.title('title-of-the-plot')**\n",
    "\n",
    "2. Showing the result of the plot - \n",
    "    * **plt.show()**"
   ]
  },
  {
   "cell_type": "code",
   "execution_count": null,
   "metadata": {
    "collapsed": true
   },
   "outputs": [],
   "source": [
    "import matplotlib.pyplot as plt #conventions\n",
    "\n",
    "#Your code goes here"
   ]
  },
  {
   "cell_type": "markdown",
   "metadata": {},
   "source": [
    "# Winter is here...\n",
    "\n",
    "Here is a small excercise to test out your understanding...\n",
    "\n",
    "## Three Eyed Raven's Visions (Dataset Column Description) - \n",
    "\n",
    "* Name - Character name\n",
    "* Allegiances - Character house\n",
    "* Death Year - Year character died\n",
    "* Book of Death - Book character died\n",
    "* Death Chapter - Book character died in\n",
    "* Book Intro Chapter - Chapter character was introduced in\n",
    "* Gender - 1 is male, 0 is female\n",
    "* Nobility - 1 is nobel, 0 is a commoner\n",
    "* GoT - Appeared in first book\n",
    "* CoK - Appeared in second book\n",
    "* SoS - Appeared in third book\n",
    "* FfC - Appeared in fourth book\n",
    "* DwD - Appeared in fifth book\n",
    "\n",
    "## White walkers that you have to slay (Tasks) - \n",
    "\n",
    "1. Get me the house with the most deaths\n",
    "2. Get me the chapter in which Uncle Benjamin Stark dies.\n",
    "3. Find the ratio of female to male deaths with allegiance to House Stark\n",
    "\n",
    "**Bring out your Valyrian steel swords and have a swing at these white walkers...**"
   ]
  },
  {
   "cell_type": "code",
   "execution_count": null,
   "metadata": {
    "collapsed": true
   },
   "outputs": [],
   "source": [
    "#Your battlefield for WW1 :)\n"
   ]
  },
  {
   "cell_type": "code",
   "execution_count": null,
   "metadata": {
    "collapsed": true
   },
   "outputs": [],
   "source": [
    "#Your battlefield for WW2 :)\n"
   ]
  },
  {
   "cell_type": "code",
   "execution_count": null,
   "metadata": {
    "collapsed": true
   },
   "outputs": [],
   "source": [
    "#Your battlefield for WW3 :)\n"
   ]
  },
  {
   "cell_type": "markdown",
   "metadata": {},
   "source": [
    "## And with that, the long night ends... :)"
   ]
  },
  {
   "cell_type": "markdown",
   "metadata": {},
   "source": [
    "![That's all folks! See you in the next topic.](folks.jpg)"
   ]
  }
 ],
 "metadata": {
  "kernelspec": {
   "display_name": "Python 3",
   "language": "python",
   "name": "python3"
  },
  "language_info": {
   "codemirror_mode": {
    "name": "ipython",
    "version": 3
   },
   "file_extension": ".py",
   "mimetype": "text/x-python",
   "name": "python",
   "nbconvert_exporter": "python",
   "pygments_lexer": "ipython3",
   "version": "3.6.3"
  }
 },
 "nbformat": 4,
 "nbformat_minor": 2
}
